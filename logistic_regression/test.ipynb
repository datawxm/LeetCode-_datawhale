{
 "cells": [
  {
   "cell_type": "code",
   "execution_count": 1,
   "metadata": {},
   "outputs": [],
   "source": [
    "import pandas as pd\n",
    "from sklearn.model_selection import train_test_split\n",
    "from sklearn.linear_model import LogisticRegression\n",
    "from sklearn.metrics import accuracy_score, confusion_matrix, classification_report\n",
    "\n",
    "# 创建示例数据集\n",
    "data = {\n",
    "    'feature1': [0.1, 0.4, 0.35, 0.8, 0.3, 0.5, 0.7, 0.6, 0.2, 0.9],\n",
    "    'feature2': [0.2, 0.5, 0.3, 0.9, 0.4, 0.6, 0.8, 0.7, 0.1, 1.0],\n",
    "    'label': [0, 1, 0, 1, 0, 1, 1, 1, 0, 1]\n",
    "}\n",
    "df = pd.DataFrame(data)\n",
    "\n",
    "# 分离特征和标签\n",
    "X = df[['feature1', 'feature2']]\n",
    "y = df['label']\n",
    "\n",
    "# 分割数据集为训练集和测试集\n",
    "X_train, X_test, y_train, y_test = train_test_split(X, y, test_size=0.3, random_state=42)"
   ]
  },
  {
   "cell_type": "code",
   "execution_count": 2,
   "metadata": {},
   "outputs": [],
   "source": [
    "import pandas as pd\n",
    "from sklearn.model_selection import train_test_split\n",
    "from sklearn.linear_model import LogisticRegression\n",
    "from sklearn.metrics import accuracy_score, confusion_matrix, classification_report\n",
    "# 创建示例数据集\n",
    "data = {\n",
    "    'feature1': [0.1, 0.4, 0.35, 0.8, 0.3, 0.5, 0.7, 0.6, 0.2, 0.9],\n",
    "    'feature2': [0.2, 0.5, 0.3, 0.9, 0.4, 0.6, 0.8, 0.7, 0.1, 1.0],\n",
    "    'label': [0, 1, 0, 1, 0, 1, 1, 1, 0, 1]\n",
    "}\n",
    "df = pd.DataFrame(data)\n",
    "df\n",
    "X = df[['feature1', 'feature2']]\n",
    "y = df['label']\n",
    "\n",
    "X_train, X_test, y_train, y_test = train_test_split(X, y, test_size = 0.2, random_state = 42)"
   ]
  },
  {
   "cell_type": "code",
   "execution_count": 8,
   "metadata": {},
   "outputs": [
    {
     "name": "stdout",
     "output_type": "stream",
     "text": [
      "0.5\n"
     ]
    }
   ],
   "source": [
    "model = LogisticRegression(max_iter = 100, penalty = 'l1', solver = 'liblinear')\n",
    "model.fit(X_train, y_train)\n",
    "y_pred = model.predict(X_test)\n",
    "accuracy = accuracy_score(y_test, y_pred)\n",
    "print(accuracy)"
   ]
  },
  {
   "cell_type": "code",
   "execution_count": 9,
   "metadata": {},
   "outputs": [
    {
     "data": {
      "text/plain": [
       "array([[0, 1],\n",
       "       [0, 1]])"
      ]
     },
     "execution_count": 9,
     "metadata": {},
     "output_type": "execute_result"
    }
   ],
   "source": [
    "confusion_matrix(y_test, y_pred)"
   ]
  },
  {
   "cell_type": "code",
   "execution_count": 13,
   "metadata": {},
   "outputs": [
    {
     "name": "stdout",
     "output_type": "stream",
     "text": [
      "              precision    recall  f1-score   support\n",
      "\n",
      "           0       0.00      0.00      0.00         1\n",
      "           1       0.50      1.00      0.67         1\n",
      "\n",
      "    accuracy                           0.50         2\n",
      "   macro avg       0.25      0.50      0.33         2\n",
      "weighted avg       0.25      0.50      0.33         2\n",
      "\n"
     ]
    }
   ],
   "source": [
    "print(classification_report(y_test, y_pred))"
   ]
  },
  {
   "cell_type": "code",
   "execution_count": 11,
   "metadata": {},
   "outputs": [],
   "source": [
    "import warnings\n",
    "warnings.filterwarnings('ignore')"
   ]
  },
  {
   "cell_type": "code",
   "execution_count": null,
   "metadata": {},
   "outputs": [],
   "source": [
    "# 初始化逻辑回归模型\n",
    "model = LogisticRegression()\n",
    "\n",
    "# 训练模型\n",
    "model.fit(X_train, y_train)\n",
    "\n",
    "# 预测测试集\n",
    "y_pred = model.predict(X_test)\n",
    "\n",
    "# 计算准确率\n",
    "accuracy = accuracy_score(y_test, y_pred)\n",
    "print(f'模型准确率: {accuracy:.2f}')\n",
    "\n",
    "# 混淆矩阵\n",
    "conf_matrix = confusion_matrix(y_test, y_pred)\n",
    "print('混淆矩阵:')\n",
    "print(conf_matrix)\n",
    "\n",
    "# 分类报告\n",
    "class_report = classification_report(y_test, y_pred)\n",
    "print('分类报告:')\n",
    "print(class_report)\n"
   ]
  },
  {
   "cell_type": "code",
   "execution_count": 16,
   "metadata": {},
   "outputs": [
    {
     "name": "stdout",
     "output_type": "stream",
     "text": [
      "Epoch 1/50\n",
      "\u001b[1m6/6\u001b[0m \u001b[32m━━━━━━━━━━━━━━━━━━━━\u001b[0m\u001b[37m\u001b[0m \u001b[1m1s\u001b[0m 22ms/step - accuracy: 0.3390 - loss: 1.1063 - val_accuracy: 0.5417 - val_loss: 1.0120\n",
      "Epoch 2/50\n",
      "\u001b[1m6/6\u001b[0m \u001b[32m━━━━━━━━━━━━━━━━━━━━\u001b[0m\u001b[37m\u001b[0m \u001b[1m0s\u001b[0m 4ms/step - accuracy: 0.6781 - loss: 1.0070 - val_accuracy: 0.7083 - val_loss: 0.9344\n",
      "Epoch 3/50\n",
      "\u001b[1m6/6\u001b[0m \u001b[32m━━━━━━━━━━━━━━━━━━━━\u001b[0m\u001b[37m\u001b[0m \u001b[1m0s\u001b[0m 5ms/step - accuracy: 0.7213 - loss: 0.9152 - val_accuracy: 0.7500 - val_loss: 0.8650\n",
      "Epoch 4/50\n",
      "\u001b[1m6/6\u001b[0m \u001b[32m━━━━━━━━━━━━━━━━━━━━\u001b[0m\u001b[37m\u001b[0m \u001b[1m0s\u001b[0m 4ms/step - accuracy: 0.7759 - loss: 0.8241 - val_accuracy: 0.7500 - val_loss: 0.8061\n",
      "Epoch 5/50\n",
      "\u001b[1m6/6\u001b[0m \u001b[32m━━━━━━━━━━━━━━━━━━━━\u001b[0m\u001b[37m\u001b[0m \u001b[1m0s\u001b[0m 4ms/step - accuracy: 0.7807 - loss: 0.7648 - val_accuracy: 0.7500 - val_loss: 0.7550\n",
      "Epoch 6/50\n",
      "\u001b[1m6/6\u001b[0m \u001b[32m━━━━━━━━━━━━━━━━━━━━\u001b[0m\u001b[37m\u001b[0m \u001b[1m0s\u001b[0m 4ms/step - accuracy: 0.7963 - loss: 0.6995 - val_accuracy: 0.7500 - val_loss: 0.7110\n",
      "Epoch 7/50\n",
      "\u001b[1m6/6\u001b[0m \u001b[32m━━━━━━━━━━━━━━━━━━━━\u001b[0m\u001b[37m\u001b[0m \u001b[1m0s\u001b[0m 5ms/step - accuracy: 0.8237 - loss: 0.6456 - val_accuracy: 0.7917 - val_loss: 0.6712\n",
      "Epoch 8/50\n",
      "\u001b[1m6/6\u001b[0m \u001b[32m━━━━━━━━━━━━━━━━━━━━\u001b[0m\u001b[37m\u001b[0m \u001b[1m0s\u001b[0m 3ms/step - accuracy: 0.8278 - loss: 0.6307 - val_accuracy: 0.7917 - val_loss: 0.6374\n",
      "Epoch 9/50\n",
      "\u001b[1m6/6\u001b[0m \u001b[32m━━━━━━━━━━━━━━━━━━━━\u001b[0m\u001b[37m\u001b[0m \u001b[1m0s\u001b[0m 4ms/step - accuracy: 0.7308 - loss: 0.6579 - val_accuracy: 0.8333 - val_loss: 0.6088\n",
      "Epoch 10/50\n",
      "\u001b[1m6/6\u001b[0m \u001b[32m━━━━━━━━━━━━━━━━━━━━\u001b[0m\u001b[37m\u001b[0m \u001b[1m0s\u001b[0m 5ms/step - accuracy: 0.7795 - loss: 0.5429 - val_accuracy: 0.8333 - val_loss: 0.5830\n",
      "Epoch 11/50\n",
      "\u001b[1m6/6\u001b[0m \u001b[32m━━━━━━━━━━━━━━━━━━━━\u001b[0m\u001b[37m\u001b[0m \u001b[1m0s\u001b[0m 4ms/step - accuracy: 0.8246 - loss: 0.5259 - val_accuracy: 0.8333 - val_loss: 0.5582\n",
      "Epoch 12/50\n",
      "\u001b[1m6/6\u001b[0m \u001b[32m━━━━━━━━━━━━━━━━━━━━\u001b[0m\u001b[37m\u001b[0m \u001b[1m0s\u001b[0m 4ms/step - accuracy: 0.8174 - loss: 0.5092 - val_accuracy: 0.8333 - val_loss: 0.5374\n",
      "Epoch 13/50\n",
      "\u001b[1m6/6\u001b[0m \u001b[32m━━━━━━━━━━━━━━━━━━━━\u001b[0m\u001b[37m\u001b[0m \u001b[1m0s\u001b[0m 3ms/step - accuracy: 0.8013 - loss: 0.4877 - val_accuracy: 0.8333 - val_loss: 0.5180\n",
      "Epoch 14/50\n",
      "\u001b[1m6/6\u001b[0m \u001b[32m━━━━━━━━━━━━━━━━━━━━\u001b[0m\u001b[37m\u001b[0m \u001b[1m0s\u001b[0m 4ms/step - accuracy: 0.8339 - loss: 0.4956 - val_accuracy: 0.8333 - val_loss: 0.5004\n",
      "Epoch 15/50\n",
      "\u001b[1m6/6\u001b[0m \u001b[32m━━━━━━━━━━━━━━━━━━━━\u001b[0m\u001b[37m\u001b[0m \u001b[1m0s\u001b[0m 4ms/step - accuracy: 0.8106 - loss: 0.4610 - val_accuracy: 0.8333 - val_loss: 0.4848\n",
      "Epoch 16/50\n",
      "\u001b[1m6/6\u001b[0m \u001b[32m━━━━━━━━━━━━━━━━━━━━\u001b[0m\u001b[37m\u001b[0m \u001b[1m0s\u001b[0m 5ms/step - accuracy: 0.8183 - loss: 0.4515 - val_accuracy: 0.8333 - val_loss: 0.4719\n",
      "Epoch 17/50\n",
      "\u001b[1m6/6\u001b[0m \u001b[32m━━━━━━━━━━━━━━━━━━━━\u001b[0m\u001b[37m\u001b[0m \u001b[1m0s\u001b[0m 3ms/step - accuracy: 0.8436 - loss: 0.4277 - val_accuracy: 0.8750 - val_loss: 0.4590\n",
      "Epoch 18/50\n",
      "\u001b[1m6/6\u001b[0m \u001b[32m━━━━━━━━━━━━━━━━━━━━\u001b[0m\u001b[37m\u001b[0m \u001b[1m0s\u001b[0m 3ms/step - accuracy: 0.8153 - loss: 0.4218 - val_accuracy: 0.8750 - val_loss: 0.4466\n",
      "Epoch 19/50\n",
      "\u001b[1m6/6\u001b[0m \u001b[32m━━━━━━━━━━━━━━━━━━━━\u001b[0m\u001b[37m\u001b[0m \u001b[1m0s\u001b[0m 4ms/step - accuracy: 0.8613 - loss: 0.3902 - val_accuracy: 0.8750 - val_loss: 0.4353\n",
      "Epoch 20/50\n",
      "\u001b[1m6/6\u001b[0m \u001b[32m━━━━━━━━━━━━━━━━━━━━\u001b[0m\u001b[37m\u001b[0m \u001b[1m0s\u001b[0m 4ms/step - accuracy: 0.8592 - loss: 0.3735 - val_accuracy: 0.9167 - val_loss: 0.4252\n",
      "Epoch 21/50\n",
      "\u001b[1m6/6\u001b[0m \u001b[32m━━━━━━━━━━━━━━━━━━━━\u001b[0m\u001b[37m\u001b[0m \u001b[1m0s\u001b[0m 4ms/step - accuracy: 0.8525 - loss: 0.3842 - val_accuracy: 0.9167 - val_loss: 0.4163\n",
      "Epoch 22/50\n",
      "\u001b[1m6/6\u001b[0m \u001b[32m━━━━━━━━━━━━━━━━━━━━\u001b[0m\u001b[37m\u001b[0m \u001b[1m0s\u001b[0m 3ms/step - accuracy: 0.8272 - loss: 0.3822 - val_accuracy: 0.9167 - val_loss: 0.4078\n",
      "Epoch 23/50\n",
      "\u001b[1m6/6\u001b[0m \u001b[32m━━━━━━━━━━━━━━━━━━━━\u001b[0m\u001b[37m\u001b[0m \u001b[1m0s\u001b[0m 3ms/step - accuracy: 0.8324 - loss: 0.3846 - val_accuracy: 0.9167 - val_loss: 0.4014\n",
      "Epoch 24/50\n",
      "\u001b[1m6/6\u001b[0m \u001b[32m━━━━━━━━━━━━━━━━━━━━\u001b[0m\u001b[37m\u001b[0m \u001b[1m0s\u001b[0m 3ms/step - accuracy: 0.8682 - loss: 0.3487 - val_accuracy: 0.9167 - val_loss: 0.3936\n",
      "Epoch 25/50\n",
      "\u001b[1m6/6\u001b[0m \u001b[32m━━━━━━━━━━━━━━━━━━━━\u001b[0m\u001b[37m\u001b[0m \u001b[1m0s\u001b[0m 3ms/step - accuracy: 0.8632 - loss: 0.3669 - val_accuracy: 0.9167 - val_loss: 0.3846\n",
      "Epoch 26/50\n",
      "\u001b[1m6/6\u001b[0m \u001b[32m━━━━━━━━━━━━━━━━━━━━\u001b[0m\u001b[37m\u001b[0m \u001b[1m0s\u001b[0m 3ms/step - accuracy: 0.8536 - loss: 0.3490 - val_accuracy: 0.9167 - val_loss: 0.3775\n",
      "Epoch 27/50\n",
      "\u001b[1m6/6\u001b[0m \u001b[32m━━━━━━━━━━━━━━━━━━━━\u001b[0m\u001b[37m\u001b[0m \u001b[1m0s\u001b[0m 3ms/step - accuracy: 0.8552 - loss: 0.3621 - val_accuracy: 0.9167 - val_loss: 0.3725\n",
      "Epoch 28/50\n",
      "\u001b[1m6/6\u001b[0m \u001b[32m━━━━━━━━━━━━━━━━━━━━\u001b[0m\u001b[37m\u001b[0m \u001b[1m0s\u001b[0m 3ms/step - accuracy: 0.8472 - loss: 0.3706 - val_accuracy: 0.9167 - val_loss: 0.3665\n",
      "Epoch 29/50\n",
      "\u001b[1m6/6\u001b[0m \u001b[32m━━━━━━━━━━━━━━━━━━━━\u001b[0m\u001b[37m\u001b[0m \u001b[1m0s\u001b[0m 3ms/step - accuracy: 0.9262 - loss: 0.3210 - val_accuracy: 0.9167 - val_loss: 0.3606\n",
      "Epoch 30/50\n",
      "\u001b[1m6/6\u001b[0m \u001b[32m━━━━━━━━━━━━━━━━━━━━\u001b[0m\u001b[37m\u001b[0m \u001b[1m0s\u001b[0m 3ms/step - accuracy: 0.8765 - loss: 0.3224 - val_accuracy: 0.9167 - val_loss: 0.3554\n",
      "Epoch 31/50\n",
      "\u001b[1m6/6\u001b[0m \u001b[32m━━━━━━━━━━━━━━━━━━━━\u001b[0m\u001b[37m\u001b[0m \u001b[1m0s\u001b[0m 3ms/step - accuracy: 0.9051 - loss: 0.3155 - val_accuracy: 0.9167 - val_loss: 0.3495\n",
      "Epoch 32/50\n",
      "\u001b[1m6/6\u001b[0m \u001b[32m━━━━━━━━━━━━━━━━━━━━\u001b[0m\u001b[37m\u001b[0m \u001b[1m0s\u001b[0m 13ms/step - accuracy: 0.8824 - loss: 0.3299 - val_accuracy: 0.9167 - val_loss: 0.3445\n",
      "Epoch 33/50\n",
      "\u001b[1m6/6\u001b[0m \u001b[32m━━━━━━━━━━━━━━━━━━━━\u001b[0m\u001b[37m\u001b[0m \u001b[1m0s\u001b[0m 3ms/step - accuracy: 0.8606 - loss: 0.3237 - val_accuracy: 0.9167 - val_loss: 0.3395\n",
      "Epoch 34/50\n",
      "\u001b[1m6/6\u001b[0m \u001b[32m━━━━━━━━━━━━━━━━━━━━\u001b[0m\u001b[37m\u001b[0m \u001b[1m0s\u001b[0m 8ms/step - accuracy: 0.8661 - loss: 0.3272 - val_accuracy: 0.9167 - val_loss: 0.3343\n",
      "Epoch 35/50\n",
      "\u001b[1m6/6\u001b[0m \u001b[32m━━━━━━━━━━━━━━━━━━━━\u001b[0m\u001b[37m\u001b[0m \u001b[1m0s\u001b[0m 3ms/step - accuracy: 0.9080 - loss: 0.2836 - val_accuracy: 0.9167 - val_loss: 0.3275\n",
      "Epoch 36/50\n",
      "\u001b[1m6/6\u001b[0m \u001b[32m━━━━━━━━━━━━━━━━━━━━\u001b[0m\u001b[37m\u001b[0m \u001b[1m0s\u001b[0m 3ms/step - accuracy: 0.9185 - loss: 0.2747 - val_accuracy: 0.9167 - val_loss: 0.3231\n",
      "Epoch 37/50\n",
      "\u001b[1m6/6\u001b[0m \u001b[32m━━━━━━━━━━━━━━━━━━━━\u001b[0m\u001b[37m\u001b[0m \u001b[1m0s\u001b[0m 3ms/step - accuracy: 0.8811 - loss: 0.2971 - val_accuracy: 0.9167 - val_loss: 0.3177\n",
      "Epoch 38/50\n",
      "\u001b[1m6/6\u001b[0m \u001b[32m━━━━━━━━━━━━━━━━━━━━\u001b[0m\u001b[37m\u001b[0m \u001b[1m0s\u001b[0m 3ms/step - accuracy: 0.9351 - loss: 0.2465 - val_accuracy: 0.9167 - val_loss: 0.3133\n",
      "Epoch 39/50\n",
      "\u001b[1m6/6\u001b[0m \u001b[32m━━━━━━━━━━━━━━━━━━━━\u001b[0m\u001b[37m\u001b[0m \u001b[1m0s\u001b[0m 3ms/step - accuracy: 0.8786 - loss: 0.2854 - val_accuracy: 0.9167 - val_loss: 0.3072\n",
      "Epoch 40/50\n",
      "\u001b[1m6/6\u001b[0m \u001b[32m━━━━━━━━━━━━━━━━━━━━\u001b[0m\u001b[37m\u001b[0m \u001b[1m0s\u001b[0m 3ms/step - accuracy: 0.9153 - loss: 0.2508 - val_accuracy: 0.9167 - val_loss: 0.3028\n",
      "Epoch 41/50\n",
      "\u001b[1m6/6\u001b[0m \u001b[32m━━━━━━━━━━━━━━━━━━━━\u001b[0m\u001b[37m\u001b[0m \u001b[1m0s\u001b[0m 3ms/step - accuracy: 0.9284 - loss: 0.2496 - val_accuracy: 0.9167 - val_loss: 0.2989\n",
      "Epoch 42/50\n",
      "\u001b[1m6/6\u001b[0m \u001b[32m━━━━━━━━━━━━━━━━━━━━\u001b[0m\u001b[37m\u001b[0m \u001b[1m0s\u001b[0m 3ms/step - accuracy: 0.9187 - loss: 0.2541 - val_accuracy: 0.9167 - val_loss: 0.2954\n",
      "Epoch 43/50\n",
      "\u001b[1m6/6\u001b[0m \u001b[32m━━━━━━━━━━━━━━━━━━━━\u001b[0m\u001b[37m\u001b[0m \u001b[1m0s\u001b[0m 3ms/step - accuracy: 0.9353 - loss: 0.2333 - val_accuracy: 0.9167 - val_loss: 0.2925\n",
      "Epoch 44/50\n",
      "\u001b[1m6/6\u001b[0m \u001b[32m━━━━━━━━━━━━━━━━━━━━\u001b[0m\u001b[37m\u001b[0m \u001b[1m0s\u001b[0m 3ms/step - accuracy: 0.9161 - loss: 0.2411 - val_accuracy: 0.9167 - val_loss: 0.2883\n",
      "Epoch 45/50\n",
      "\u001b[1m6/6\u001b[0m \u001b[32m━━━━━━━━━━━━━━━━━━━━\u001b[0m\u001b[37m\u001b[0m \u001b[1m0s\u001b[0m 3ms/step - accuracy: 0.9461 - loss: 0.2454 - val_accuracy: 0.9167 - val_loss: 0.2847\n",
      "Epoch 46/50\n",
      "\u001b[1m6/6\u001b[0m \u001b[32m━━━━━━━━━━━━━━━━━━━━\u001b[0m\u001b[37m\u001b[0m \u001b[1m0s\u001b[0m 3ms/step - accuracy: 0.9354 - loss: 0.2509 - val_accuracy: 0.9167 - val_loss: 0.2803\n",
      "Epoch 47/50\n",
      "\u001b[1m6/6\u001b[0m \u001b[32m━━━━━━━━━━━━━━━━━━━━\u001b[0m\u001b[37m\u001b[0m \u001b[1m0s\u001b[0m 3ms/step - accuracy: 0.9235 - loss: 0.2417 - val_accuracy: 0.9167 - val_loss: 0.2759\n",
      "Epoch 48/50\n",
      "\u001b[1m6/6\u001b[0m \u001b[32m━━━━━━━━━━━━━━━━━━━━\u001b[0m\u001b[37m\u001b[0m \u001b[1m0s\u001b[0m 3ms/step - accuracy: 0.9613 - loss: 0.1990 - val_accuracy: 0.9167 - val_loss: 0.2711\n",
      "Epoch 49/50\n",
      "\u001b[1m6/6\u001b[0m \u001b[32m━━━━━━━━━━━━━━━━━━━━\u001b[0m\u001b[37m\u001b[0m \u001b[1m0s\u001b[0m 3ms/step - accuracy: 0.9235 - loss: 0.2318 - val_accuracy: 0.9167 - val_loss: 0.2658\n",
      "Epoch 50/50\n",
      "\u001b[1m6/6\u001b[0m \u001b[32m━━━━━━━━━━━━━━━━━━━━\u001b[0m\u001b[37m\u001b[0m \u001b[1m0s\u001b[0m 3ms/step - accuracy: 0.9116 - loss: 0.2256 - val_accuracy: 0.9583 - val_loss: 0.2641\n",
      "\u001b[1m1/1\u001b[0m \u001b[32m━━━━━━━━━━━━━━━━━━━━\u001b[0m\u001b[37m\u001b[0m \u001b[1m0s\u001b[0m 11ms/step - accuracy: 0.9667 - loss: 0.1804\n",
      "Test Loss: 0.18040087819099426\n",
      "Test Accuracy: 0.9666666388511658\n"
     ]
    }
   ],
   "source": [
    "import tensorflow as tf\n",
    "from sklearn.datasets import load_iris\n",
    "from sklearn.model_selection import train_test_split\n",
    "from sklearn.preprocessing import StandardScaler\n",
    "\n",
    "# 加载数据\n",
    "iris = load_iris()\n",
    "X = iris.data\n",
    "y = iris.target\n",
    "\n",
    "# 数据预处理\n",
    "scaler = StandardScaler()\n",
    "X = scaler.fit_transform(X)\n",
    "y = tf.keras.utils.to_categorical(y, 3)\n",
    "\n",
    "# 分割数据集\n",
    "X_train, X_test, y_train, y_test = train_test_split(X, y, test_size=0.2, random_state=42)\n",
    "\n",
    "# 创建顺序模型\n",
    "model = tf.keras.Sequential()\n",
    "\n",
    "# 添加层\n",
    "model.add(tf.keras.layers.Dense(units=64, activation='relu', input_shape=(X_train.shape[1],)))\n",
    "model.add(tf.keras.layers.Dense(units=3, activation='softmax'))\n",
    "\n",
    "# 编译模型\n",
    "model.compile(optimizer='adam', loss='categorical_crossentropy', metrics=['accuracy'])\n",
    "\n",
    "# 训练模型\n",
    "model.fit(X_train, y_train, epochs=50, batch_size=16, validation_split=0.2)\n",
    "\n",
    "# 评估模型\n",
    "loss, accuracy = model.evaluate(X_test, y_test)\n",
    "print(f'Test Loss: {loss}')\n",
    "print(f'Test Accuracy: {accuracy}')\n"
   ]
  },
  {
   "cell_type": "code",
   "execution_count": null,
   "metadata": {},
   "outputs": [],
   "source": []
  },
  {
   "cell_type": "code",
   "execution_count": null,
   "metadata": {},
   "outputs": [],
   "source": []
  },
  {
   "cell_type": "code",
   "execution_count": null,
   "metadata": {},
   "outputs": [],
   "source": []
  },
  {
   "cell_type": "code",
   "execution_count": null,
   "metadata": {},
   "outputs": [],
   "source": [
    "import numpy as np\n",
    "import matplotlib.pyplot as plt\n",
    "from sklearn.linear_model import LinearRegression\n",
    "from sklearn.model_selection import train_test_split\n",
    "\n",
    "np.random.seed(0)\n",
    "X = 2 * np.random.rand(100, 1)\n",
    "y = 4 + 3 * X + np.random.randn(100, 1)\n",
    "\n",
    "X_train, X_test, y_train, y_test = train_test_split(X, y, test_size = 0.2, random_state = 42)\n",
    "\n",
    "model = LinearRegression()\n",
    "\n",
    "model.fit(X_train, y_train)\n",
    "\n",
    "y_pred = model.predict(X_test)\n",
    "print(model.coef_)\n",
    "print(model.intercept_)\n",
    "\n",
    "\n",
    "\n"
   ]
  },
  {
   "cell_type": "code",
   "execution_count": 19,
   "metadata": {},
   "outputs": [
    {
     "name": "stderr",
     "output_type": "stream",
     "text": [
      "Matplotlib is building the font cache; this may take a moment.\n"
     ]
    },
    {
     "name": "stdout",
     "output_type": "stream",
     "text": [
      "Intercept (β0): 4.206340188711436\n",
      "Coefficient (β1): 2.9902591010048907\n"
     ]
    },
    {
     "data": {
      "image/png": "[encoded data removed]",
      "text/plain": [
       "<Figure size 640x480 with 1 Axes>"
      ]
     },
     "metadata": {},
     "output_type": "display_data"
    }
   ],
   "source": [
    "import numpy as np\n",
    "import matplotlib.pyplot as plt\n",
    "from sklearn.linear_model import LinearRegression\n",
    "from sklearn.model_selection import train_test_split\n",
    "\n",
    "# 生成一些示例数据\n",
    "np.random.seed(0)\n",
    "X = 2 * np.random.rand(100, 1)\n",
    "y = 4 + 3 * X + np.random.randn(100, 1)\n",
    "\n",
    "# 拆分数据集为训练集和测试集\n",
    "X_train, X_test, y_train, y_test = train_test_split(X, y, test_size=0.2, random_state=42)\n",
    "\n",
    "# 创建线性回归模型\n",
    "model = LinearRegression()\n",
    "model.fit(X_train, y_train)\n",
    "\n",
    "# 预测\n",
    "y_pred = model.predict(X_test)\n",
    "\n",
    "# 输出回归系数\n",
    "print(f\"Intercept (β0): {model.intercept_[0]}\")\n",
    "print(f\"Coefficient (β1): {model.coef_[0][0]}\")\n",
    "\n",
    "# 可视化\n",
    "plt.scatter(X, y, color='blue', label='Data points')\n",
    "plt.plot(X_test, y_pred, color='red', linewidth=2, label='Regression line')\n",
    "plt.xlabel('X')\n",
    "plt.ylabel('y')\n",
    "plt.legend()\n",
    "plt.show()\n"
   ]
  },
  {
   "cell_type": "code",
   "execution_count": 14,
   "metadata": {},
   "outputs": [
    {
     "data": {
      "text/plain": [
       "array([[1.        , 1.09762701],\n",
       "       [1.        , 1.43037873],\n",
       "       [1.        , 1.20552675],\n",
       "       [1.        , 1.08976637],\n",
       "       [1.        , 0.8473096 ],\n",
       "       [1.        , 1.29178823],\n",
       "       [1.        , 0.87517442],\n",
       "       [1.        , 1.783546  ],\n",
       "       [1.        , 1.92732552],\n",
       "       [1.        , 0.76688304],\n",
       "       [1.        , 1.58345008],\n",
       "       [1.        , 1.05778984],\n",
       "       [1.        , 1.13608912],\n",
       "       [1.        , 1.85119328],\n",
       "       [1.        , 0.14207212],\n",
       "       [1.        , 0.1742586 ],\n",
       "       [1.        , 0.04043679],\n",
       "       [1.        , 1.66523969],\n",
       "       [1.        , 1.5563135 ],\n",
       "       [1.        , 1.7400243 ],\n",
       "       [1.        , 1.95723668],\n",
       "       [1.        , 1.59831713],\n",
       "       [1.        , 0.92295872],\n",
       "       [1.        , 1.56105835],\n",
       "       [1.        , 0.23654885],\n",
       "       [1.        , 1.27984204],\n",
       "       [1.        , 0.28670657],\n",
       "       [1.        , 1.88933783],\n",
       "       [1.        , 1.04369664],\n",
       "       [1.        , 0.82932388],\n",
       "       [1.        , 0.52911122],\n",
       "       [1.        , 1.54846738],\n",
       "       [1.        , 0.91230066],\n",
       "       [1.        , 1.1368679 ],\n",
       "       [1.        , 0.0375796 ],\n",
       "       [1.        , 1.23527099],\n",
       "       [1.        , 1.22419145],\n",
       "       [1.        , 1.23386799],\n",
       "       [1.        , 1.88749616],\n",
       "       [1.        , 1.3636406 ],\n",
       "       [1.        , 0.7190158 ],\n",
       "       [1.        , 0.87406391],\n",
       "       [1.        , 1.39526239],\n",
       "       [1.        , 0.12045094],\n",
       "       [1.        , 1.33353343],\n",
       "       [1.        , 1.34127574],\n",
       "       [1.        , 0.42076512],\n",
       "       [1.        , 0.2578526 ],\n",
       "       [1.        , 0.6308567 ],\n",
       "       [1.        , 0.72742154],\n",
       "       [1.        , 1.14039354],\n",
       "       [1.        , 0.87720303],\n",
       "       [1.        , 1.97674768],\n",
       "       [1.        , 0.20408962],\n",
       "       [1.        , 0.41775351],\n",
       "       [1.        , 0.32261904],\n",
       "       [1.        , 1.30621665],\n",
       "       [1.        , 0.50658321],\n",
       "       [1.        , 0.93262155],\n",
       "       [1.        , 0.48885118],\n",
       "       [1.        , 0.31793917],\n",
       "       [1.        , 0.22075028],\n",
       "       [1.        , 1.31265918],\n",
       "       [1.        , 0.2763659 ],\n",
       "       [1.        , 0.39316472],\n",
       "       [1.        , 0.73745034],\n",
       "       [1.        , 1.64198646],\n",
       "       [1.        , 0.19420255],\n",
       "       [1.        , 1.67588981],\n",
       "       [1.        , 0.19219682],\n",
       "       [1.        , 1.95291893],\n",
       "       [1.        , 0.9373024 ],\n",
       "       [1.        , 1.95352218],\n",
       "       [1.        , 1.20969104],\n",
       "       [1.        , 1.47852716],\n",
       "       [1.        , 0.07837558],\n",
       "       [1.        , 0.56561393],\n",
       "       [1.        , 0.24039312],\n",
       "       [1.        , 0.5922804 ],\n",
       "       [1.        , 0.23745544],\n",
       "       [1.        , 0.63596636],\n",
       "       [1.        , 0.82852599],\n",
       "       [1.        , 0.12829499],\n",
       "       [1.        , 1.38494424],\n",
       "       [1.        , 1.13320291],\n",
       "       [1.        , 0.53077898],\n",
       "       [1.        , 1.04649611],\n",
       "       [1.        , 0.18788102],\n",
       "       [1.        , 1.15189299],\n",
       "       [1.        , 1.8585924 ],\n",
       "       [1.        , 0.6371379 ],\n",
       "       [1.        , 1.33482076],\n",
       "       [1.        , 0.26359572],\n",
       "       [1.        , 1.43265441],\n",
       "       [1.        , 0.57881219],\n",
       "       [1.        , 0.36638272],\n",
       "       [1.        , 1.17302587],\n",
       "       [1.        , 0.04021509],\n",
       "       [1.        , 1.65788006],\n",
       "       [1.        , 0.00939095]])"
      ]
     },
     "execution_count": 14,
     "metadata": {},
     "output_type": "execute_result"
    }
   ],
   "source": [
    "X_b"
   ]
  },
  {
   "cell_type": "code",
   "execution_count": 16,
   "metadata": {},
   "outputs": [
    {
     "name": "stdout",
     "output_type": "stream",
     "text": [
      "Mean Absolute Error:  0.8014554834253336\n",
      "Mean Squared Error:  0.9177532469714293\n",
      "[[2.9902591]] [4.20634019]\n"
     ]
    }
   ],
   "source": [
    "from sklearn.linear_model import LinearRegression\n",
    "from sklearn.model_selection import train_test_split\n",
    "from sklearn.metrics import mean_squared_error,mean_absolute_error\n",
    "import matplotlib.pyplot as plt\n",
    "\n",
    "X_train, X_test, y_train, y_test = train_test_split(X, y, test_size=0.2, random_state=42)\n",
    "\n",
    "model = LinearRegression()\n",
    "model.fit(X_train, y_train)\n",
    "y_pred = model.predict(X_test)\n",
    "\n",
    "print(\"Mean Absolute Error: \", mean_absolute_error(y_test, y_pred))\n",
    "print(\"Mean Squared Error: \", mean_squared_error(y_test, y_pred))\n",
    "print(model.coef_, model.intercept_)"
   ]
  },
  {
   "cell_type": "markdown",
   "metadata": {},
   "source": []
  },
  {
   "cell_type": "code",
   "execution_count": 21,
   "metadata": {},
   "outputs": [
    {
     "name": "stdout",
     "output_type": "stream",
     "text": [
      "权重&偏置 [[2.11469843]\n",
      " [3.07515309]]\n"
     ]
    }
   ],
   "source": [
    "import numpy as np\n",
    "\n",
    "np.random.seed(0)\n",
    "X = np.random.randn(100, 1)\n",
    "y = X * 2 + 3 + np.random.randn(100, 1)\n",
    "\n",
    "X_b = np.c_[X, np.ones(len(X))]\n",
    "\n",
    "learning_rate = 0.1\n",
    "n_iterations = 1000\n",
    "m = 100\n",
    "\n",
    "theta = np.random.randn(2, 1)\n",
    "for _ in range(n_iterations):\n",
    "    gradients = 2 / m * X_b.T.dot(X_b.dot(theta) - y)\n",
    "    theta -= learning_rate * gradients\n",
    "print('权重&偏置',theta)"
   ]
  },
  {
   "cell_type": "code",
   "execution_count": null,
   "metadata": {},
   "outputs": [],
   "source": []
  },
  {
   "cell_type": "code",
   "execution_count": null,
   "metadata": {},
   "outputs": [],
   "source": []
  },
  {
   "cell_type": "code",
   "execution_count": null,
   "metadata": {},
   "outputs": [],
   "source": []
  },
  {
   "cell_type": "code",
   "execution_count": null,
   "metadata": {},
   "outputs": [],
   "source": []
  },
  {
   "cell_type": "code",
   "execution_count": null,
   "metadata": {},
   "outputs": [],
   "source": []
  },
  {
   "cell_type": "code",
   "execution_count": null,
   "metadata": {},
   "outputs": [],
   "source": []
  },
  {
   "cell_type": "code",
   "execution_count": 23,
   "metadata": {},
   "outputs": [],
   "source": [
    "import numpy as np\n",
    "import tensorflow as tf\n",
    "import warnings\n",
    "warnings.filterwarnings(\"ignore\")\n",
    "\n",
    "\n",
    "# 生成一些随机数据\n",
    "np.random.seed(0)\n",
    "input_seq = np.random.randn(100, 10, 20)  # (批次大小, 序列长度, 特征维度)\n",
    "target_seq = np.random.randn(100, 10, 20) # (批次大小, 序列长度, 特征维度)\n"
   ]
  },
  {
   "cell_type": "code",
   "execution_count": 24,
   "metadata": {},
   "outputs": [],
   "source": [
    "class Attention(tf.keras.layers.Layer):\n",
    "    def __init__(self, **kwargs):\n",
    "        super(Attention, self).__init__(**kwargs)\n",
    "\n",
    "    def call(self, encoder_outputs, decoder_hidden):\n",
    "        # encoder_outputs: (批次大小, 序列长度, 特征维度)\n",
    "        # decoder_hidden: (批次大小, 特征维度)\n",
    "\n",
    "        # 计算得分\n",
    "        scores = tf.matmul(encoder_outputs, decoder_hidden[:, tf.newaxis, :], transpose_b=True)  # (批次大小, 序列长度, 1)\n",
    "        scores = tf.squeeze(scores, axis=-1)  # (批次大小, 序列长度)\n",
    "\n",
    "        # 归一化得分\n",
    "        attn_weights = tf.nn.softmax(scores, axis=1)  # (批次大小, 序列长度)\n",
    "\n",
    "        # 加权求和\n",
    "        context_vector = tf.reduce_sum(encoder_outputs * attn_weights[:, :, tf.newaxis], axis=1)  # (批次大小, 特征维度)\n",
    "\n",
    "        return context_vector, attn_weights\n"
   ]
  },
  {
   "cell_type": "code",
   "execution_count": 25,
   "metadata": {},
   "outputs": [],
   "source": [
    "class Encoder(tf.keras.layers.Layer):\n",
    "    def __init__(self, hidden_dim, **kwargs):\n",
    "        super(Encoder, self).__init__(**kwargs)\n",
    "        self.rnn = tf.keras.layers.GRU(hidden_dim, return_sequences=True, return_state=True)\n",
    "\n",
    "    def call(self, x):\n",
    "        outputs, hidden = self.rnn(x)\n",
    "        return outputs, hidden\n",
    "\n",
    "class Decoder(tf.keras.layers.Layer):\n",
    "    def __init__(self, hidden_dim, output_dim, **kwargs):\n",
    "        super(Decoder, self).__init__(**kwargs)\n",
    "        self.rnn = tf.keras.layers.GRU(hidden_dim, return_sequences=True, return_state=True)\n",
    "        self.fc = tf.keras.layers.Dense(output_dim)\n",
    "        self.attention = Attention()\n",
    "\n",
    "    def call(self, x, encoder_outputs, hidden):\n",
    "        context_vector, attn_weights = self.attention(encoder_outputs, hidden)\n",
    "        rnn_output, hidden = self.rnn(x, initial_state=hidden)\n",
    "        rnn_output = tf.squeeze(rnn_output, axis=1)\n",
    "        output = self.fc(rnn_output + context_vector)\n",
    "        return output, hidden, attn_weights\n"
   ]
  },
  {
   "cell_type": "code",
   "execution_count": 26,
   "metadata": {},
   "outputs": [
    {
     "name": "stdout",
     "output_type": "stream",
     "text": [
      "Epoch 1/10, Loss: 4.5657962036132815\n",
      "Epoch 2/10, Loss: 0.6646526336669922\n",
      "Epoch 3/10, Loss: 0.35649642944335935\n",
      "Epoch 4/10, Loss: 0.26039724349975585\n",
      "Epoch 5/10, Loss: 0.22430328369140626\n",
      "Epoch 6/10, Loss: 0.2065715217590332\n",
      "Epoch 7/10, Loss: 0.2015067481994629\n",
      "Epoch 8/10, Loss: 0.21181699752807617\n",
      "Epoch 9/10, Loss: 0.219794864654541\n",
      "Epoch 10/10, Loss: 0.2210584831237793\n"
     ]
    }
   ],
   "source": [
    "# 超参数\n",
    "input_dim = 20\n",
    "hidden_dim = 30\n",
    "output_dim = 20\n",
    "learning_rate = 0.01\n",
    "num_epochs = 10\n",
    "\n",
    "encoder = Encoder(hidden_dim)\n",
    "decoder = Decoder(hidden_dim, output_dim)\n",
    "optimizer = tf.keras.optimizers.Adam(learning_rate)\n",
    "loss_fn = tf.keras.losses.MeanSquaredError()\n",
    "\n",
    "@tf.function\n",
    "def train_step(input_seq, target_seq, encoder, decoder, optimizer, loss_fn):\n",
    "    with tf.GradientTape() as tape:\n",
    "        encoder_outputs, encoder_hidden = encoder(input_seq)\n",
    "        decoder_hidden = encoder_hidden\n",
    "\n",
    "        loss = 0\n",
    "        for t in range(target_seq.shape[1]):\n",
    "            decoder_input = target_seq[:, t:t+1, :]\n",
    "            decoder_output, decoder_hidden, _ = decoder(decoder_input, encoder_outputs, decoder_hidden)\n",
    "            loss += loss_fn(target_seq[:, t, :], decoder_output)\n",
    "\n",
    "    gradients = tape.gradient(loss, encoder.trainable_variables + decoder.trainable_variables)\n",
    "    optimizer.apply_gradients(zip(gradients, encoder.trainable_variables + decoder.trainable_variables))\n",
    "    return loss\n",
    "\n",
    "for epoch in range(num_epochs):\n",
    "    epoch_loss = 0\n",
    "    for batch in range(input_seq.shape[0]):\n",
    "        loss = train_step(input_seq[batch:batch+1], target_seq[batch:batch+1], encoder, decoder, optimizer, loss_fn)\n",
    "        epoch_loss += loss\n",
    "\n",
    "    print(f\"Epoch {epoch+1}/{num_epochs}, Loss: {epoch_loss.numpy() / input_seq.shape[0]}\")\n"
   ]
  },
  {
   "cell_type": "code",
   "execution_count": null,
   "metadata": {},
   "outputs": [],
   "source": [
    "import numpy as np\n",
    "import "
   ]
  },
  {
   "cell_type": "code",
   "execution_count": 27,
   "metadata": {},
   "outputs": [
    {
     "name": "stdout",
     "output_type": "stream",
     "text": [
      "Model accuracy: 100.00%\n",
      "Model coefficients: [[ 0.46248518 -0.84445753  2.21233212  0.92744332]]\n",
      "Model intercept: [-6.52447541]\n"
     ]
    }
   ],
   "source": [
    "import numpy as np\n",
    "import pandas as pd\n",
    "from sklearn.model_selection import train_test_split\n",
    "from sklearn.linear_model import LogisticRegression\n",
    "from sklearn.metrics import accuracy_score\n",
    "\n",
    "# 加载鸢尾花数据集\n",
    "from sklearn.datasets import load_iris\n",
    "iris = load_iris()\n",
    "X = iris.data\n",
    "y = iris.target\n",
    "\n",
    "# 只选择两个类别进行二分类\n",
    "X = X[y != 2]\n",
    "y = y[y != 2]\n",
    "\n",
    "# 分割数据集为训练集和测试集\n",
    "X_train, X_test, y_train, y_test = train_test_split(X, y, test_size=0.2, random_state=42)\n",
    "\n",
    "# 初始化逻辑回归模型\n",
    "model = LogisticRegression()\n",
    "\n",
    "# 训练模型\n",
    "model.fit(X_train, y_train)\n",
    "\n",
    "# 预测\n",
    "y_pred = model.predict(X_test)\n",
    "\n",
    "# 计算准确率\n",
    "accuracy = accuracy_score(y_test, y_pred)\n",
    "print(f\"Model accuracy: {accuracy * 100:.2f}%\")\n",
    "\n",
    "# 打印模型参数\n",
    "print(\"Model coefficients:\", model.coef_)\n",
    "print(\"Model intercept:\", model.intercept_)"
   ]
  },
  {
   "cell_type": "code",
   "execution_count": null,
   "metadata": {},
   "outputs": [],
   "source": []
  }
 ],
 "metadata": {
  "kernelspec": {
   "display_name": "Python 3",
   "language": "python",
   "name": "python3"
  },
  "language_info": {
   "codemirror_mode": {
    "name": "ipython",
    "version": 3
   },
   "file_extension": ".py",
   "mimetype": "text/x-python",
   "name": "python",
   "nbconvert_exporter": "python",
   "pygments_lexer": "ipython3",
   "version": "3.9.6"
  }
 },
 "nbformat": 4,
 "nbformat_minor": 2
}
